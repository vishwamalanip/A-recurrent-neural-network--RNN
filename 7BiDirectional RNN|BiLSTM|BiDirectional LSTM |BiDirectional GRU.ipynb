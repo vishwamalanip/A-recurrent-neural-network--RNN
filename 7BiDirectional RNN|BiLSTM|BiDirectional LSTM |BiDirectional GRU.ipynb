{
 "cells": [
  {
   "cell_type": "markdown",
   "id": "0bbe42f6",
   "metadata": {},
   "source": [
    "# BiDirectional RNN|BiLSTM|BiDirectional LSTM |BiDirectional GRU"
   ]
  },
  {
   "cell_type": "code",
   "execution_count": 4,
   "id": "7f71ea77",
   "metadata": {},
   "outputs": [],
   "source": [
    "import tensorflow as tf \n",
    "from tensorflow.keras.datasets import imdb \n",
    "from tensorflow.keras.preprocessing.sequence import pad_sequences \n",
    "from tensorflow.keras.models import Sequential \n",
    "from tensorflow.keras.layers import Embedding, Bidirectional, SimpleRNN, LSTM, GRU, Dense\n"
   ]
  },
  {
   "cell_type": "code",
   "execution_count": 6,
   "id": "eee693ff",
   "metadata": {},
   "outputs": [
    {
     "ename": "ValueError",
     "evalue": "Unrecognized keyword arguments passed to Embedding: {'input_length': 100}",
     "output_type": "error",
     "traceback": [
      "\u001b[0;31m---------------------------------------------------------------------------\u001b[0m",
      "\u001b[0;31mValueError\u001b[0m                                Traceback (most recent call last)",
      "Cell \u001b[0;32mIn[6], line 14\u001b[0m\n\u001b[1;32m     10\u001b[0m \u001b[38;5;66;03m# Build the Bidirectional RNN model\u001b[39;00m\n\u001b[1;32m     11\u001b[0m embedding_dim \u001b[38;5;241m=\u001b[39m \u001b[38;5;241m32\u001b[39m \u001b[38;5;66;03m# Dimension of embedding layer\u001b[39;00m\n\u001b[1;32m     13\u001b[0m model \u001b[38;5;241m=\u001b[39m Sequential([\n\u001b[0;32m---> 14\u001b[0m     Embedding(input_dim\u001b[38;5;241m=\u001b[39mnum_words, output_dim\u001b[38;5;241m=\u001b[39membedding_dim, input_length\u001b[38;5;241m=\u001b[39mmaxlen),\n\u001b[1;32m     15\u001b[0m     SimpleRNN(\u001b[38;5;241m5\u001b[39m), \u001b[38;5;66;03m# 5 RNN units\u001b[39;00m\n\u001b[1;32m     16\u001b[0m     Dense(\u001b[38;5;241m1\u001b[39m, activation\u001b[38;5;241m=\u001b[39m\u001b[38;5;124m'\u001b[39m\u001b[38;5;124msigmoid\u001b[39m\u001b[38;5;124m'\u001b[39m) \u001b[38;5;66;03m# Binary classification (positive/negative)\u001b[39;00m\n\u001b[1;32m     17\u001b[0m ])\n",
      "File \u001b[0;32m~/anaconda3/lib/python3.11/site-packages/keras/src/layers/core/embedding.py:81\u001b[0m, in \u001b[0;36mEmbedding.__init__\u001b[0;34m(self, input_dim, output_dim, embeddings_initializer, embeddings_regularizer, embeddings_constraint, mask_zero, lora_rank, **kwargs)\u001b[0m\n\u001b[1;32m     70\u001b[0m \u001b[38;5;28;01mdef\u001b[39;00m \u001b[38;5;21m__init__\u001b[39m(\n\u001b[1;32m     71\u001b[0m     \u001b[38;5;28mself\u001b[39m,\n\u001b[1;32m     72\u001b[0m     input_dim,\n\u001b[0;32m   (...)\u001b[0m\n\u001b[1;32m     79\u001b[0m     \u001b[38;5;241m*\u001b[39m\u001b[38;5;241m*\u001b[39mkwargs,\n\u001b[1;32m     80\u001b[0m ):\n\u001b[0;32m---> 81\u001b[0m     \u001b[38;5;28msuper\u001b[39m()\u001b[38;5;241m.\u001b[39m\u001b[38;5;21m__init__\u001b[39m(\u001b[38;5;241m*\u001b[39m\u001b[38;5;241m*\u001b[39mkwargs)\n\u001b[1;32m     82\u001b[0m     \u001b[38;5;28mself\u001b[39m\u001b[38;5;241m.\u001b[39minput_dim \u001b[38;5;241m=\u001b[39m input_dim\n\u001b[1;32m     83\u001b[0m     \u001b[38;5;28mself\u001b[39m\u001b[38;5;241m.\u001b[39moutput_dim \u001b[38;5;241m=\u001b[39m output_dim\n",
      "File \u001b[0;32m~/anaconda3/lib/python3.11/site-packages/keras/src/layers/layer.py:265\u001b[0m, in \u001b[0;36mLayer.__init__\u001b[0;34m(self, activity_regularizer, trainable, dtype, autocast, name, **kwargs)\u001b[0m\n\u001b[1;32m    263\u001b[0m     \u001b[38;5;28mself\u001b[39m\u001b[38;5;241m.\u001b[39m_input_shape_arg \u001b[38;5;241m=\u001b[39m input_shape_arg\n\u001b[1;32m    264\u001b[0m \u001b[38;5;28;01mif\u001b[39;00m kwargs:\n\u001b[0;32m--> 265\u001b[0m     \u001b[38;5;28;01mraise\u001b[39;00m \u001b[38;5;167;01mValueError\u001b[39;00m(\n\u001b[1;32m    266\u001b[0m         \u001b[38;5;124m\"\u001b[39m\u001b[38;5;124mUnrecognized keyword arguments \u001b[39m\u001b[38;5;124m\"\u001b[39m\n\u001b[1;32m    267\u001b[0m         \u001b[38;5;124mf\u001b[39m\u001b[38;5;124m\"\u001b[39m\u001b[38;5;124mpassed to \u001b[39m\u001b[38;5;132;01m{\u001b[39;00m\u001b[38;5;28mself\u001b[39m\u001b[38;5;241m.\u001b[39m\u001b[38;5;18m__class__\u001b[39m\u001b[38;5;241m.\u001b[39m\u001b[38;5;18m__name__\u001b[39m\u001b[38;5;132;01m}\u001b[39;00m\u001b[38;5;124m: \u001b[39m\u001b[38;5;132;01m{\u001b[39;00mkwargs\u001b[38;5;132;01m}\u001b[39;00m\u001b[38;5;124m\"\u001b[39m\n\u001b[1;32m    268\u001b[0m     )\n\u001b[1;32m    270\u001b[0m \u001b[38;5;28mself\u001b[39m\u001b[38;5;241m.\u001b[39mbuilt \u001b[38;5;241m=\u001b[39m \u001b[38;5;28;01mFalse\u001b[39;00m\n\u001b[1;32m    271\u001b[0m \u001b[38;5;28mself\u001b[39m\u001b[38;5;241m.\u001b[39mdtype_policy \u001b[38;5;241m=\u001b[39m dtype_policies\u001b[38;5;241m.\u001b[39mget(dtype)\n",
      "\u001b[0;31mValueError\u001b[0m: Unrecognized keyword arguments passed to Embedding: {'input_length': 100}"
     ]
    }
   ],
   "source": [
    "# Load the IMDB dataset\n",
    "num_words = 10000 # Number of words to keep\n",
    "(X_train, y_train), (X_test, Y_test) = imdb.load_data(num_words=num_words)\n",
    "\n",
    "# Pad sequences\n",
    "maxlen = 100 # Maximum sequence length\n",
    "X_train = pad_sequences(X_train, maxlen=maxlen, padding= 'post', truncating= 'post' )\n",
    "X_test = pad_sequences(X_test, maxlen=maxlen, padding='post', truncating= 'post')\n",
    "\n",
    "# Build the Bidirectional RNN model\n",
    "embedding_dim = 32 # Dimension of embedding layer\n",
    "\n",
    "model = Sequential([\n",
    "    Embedding(input_dim=num_words, output_dim=embedding_dim, input_length=maxlen),\n",
    "    SimpleRNN(5), # 5 RNN units\n",
    "    Dense(1, activation='sigmoid') # Binary classification (positive/negative)\n",
    "])"
   ]
  },
  {
   "cell_type": "code",
   "execution_count": 7,
   "id": "d070b9a6",
   "metadata": {},
   "outputs": [
    {
     "ename": "NameError",
     "evalue": "name 'model' is not defined",
     "output_type": "error",
     "traceback": [
      "\u001b[0;31m---------------------------------------------------------------------------\u001b[0m",
      "\u001b[0;31mNameError\u001b[0m                                 Traceback (most recent call last)",
      "Cell \u001b[0;32mIn[7], line 2\u001b[0m\n\u001b[1;32m      1\u001b[0m \u001b[38;5;66;03m# Compile the model\u001b[39;00m\n\u001b[0;32m----> 2\u001b[0m model\u001b[38;5;241m.\u001b[39m \u001b[38;5;28mcompile\u001b[39m(optimizer\u001b[38;5;241m=\u001b[39m\u001b[38;5;124m'\u001b[39m\u001b[38;5;124madam\u001b[39m\u001b[38;5;124m'\u001b[39m, loss\u001b[38;5;241m=\u001b[39m\u001b[38;5;124m'\u001b[39m\u001b[38;5;124mbinary_crossentropy\u001b[39m\u001b[38;5;124m'\u001b[39m, metrics\u001b[38;5;241m=\u001b[39m[\u001b[38;5;124m'\u001b[39m\u001b[38;5;124m accuracy\u001b[39m\u001b[38;5;124m'\u001b[39m])\n\u001b[1;32m      3\u001b[0m \u001b[38;5;66;03m# Display model architecture\u001b[39;00m\n\u001b[1;32m      4\u001b[0m model\u001b[38;5;241m.\u001b[39m summary()\n",
      "\u001b[0;31mNameError\u001b[0m: name 'model' is not defined"
     ]
    }
   ],
   "source": [
    "\n",
    "# Compile the model\n",
    "model.compile(optimizer='adam', loss='binary_crossentropy', metrics=[' accuracy'])\n",
    "# Display model architecture\n",
    "model.summary()"
   ]
  },
  {
   "cell_type": "code",
   "execution_count": null,
   "id": "7e34513c",
   "metadata": {},
   "outputs": [],
   "source": [
    "X_test = pad_sequences (X_test, maxlen=maxlen, padding='post', truncating='post')\n",
    "\n",
    "# Build the Bidirectional RNN model\n",
    "embedding_dim = 32# Dimension of embedding layer\n",
    "\n",
    "model = Sequential([\n",
    "    Embedding(input_dim=num_words, output_dim=embedding_dim, input_length=maxlen),\n",
    "    SimpleRNN(5),# 5 RNN units\n",
    "    Dense(1, activation=' sigmoid')# Binary classification (positive/negative)\n",
    "                   ])\n",
    "\n",
    "# Compile the model\n",
    "model.compile (optimizer= 'adam', loss='binary_crossentropy', metrics=[' accuracy'])\n",
    "\n",
    "# Display model architecture\n",
    "model.summary()"
   ]
  },
  {
   "cell_type": "code",
   "execution_count": null,
   "id": "9e28c365",
   "metadata": {},
   "outputs": [],
   "source": [
    "model = Sequential([\n",
    "    Embedding(input_dim=num_words, output_dim=embedding _dim, input_length=maxlen),\n",
    "    Bidirectional(SimpleRNN(5)), # 5 RNN units\n",
    "    Dense(1, activation=' sigmoid')# Binary classification (positive/negative)\n",
    "    ])\n",
    "\n",
    "# Compile the model\n",
    "model.compile(optimizer='adam', loss= 'binary_crossentropy', metrics=[' accuracy' ])\n",
    "\n",
    "# Display model architecture\n",
    "model.summary()"
   ]
  },
  {
   "cell_type": "code",
   "execution_count": null,
   "id": "e704b3e3",
   "metadata": {},
   "outputs": [],
   "source": [
    " model = Sequential([\n",
    "    Embedding(input_dim=num_words, output_dim=embedding _dim, input_length=maxlen),\n",
    "    Bidirectional(LSTM(5)), # 5 RNN units\n",
    "    Dense(1, activation=' sigmoid')# Binary classification (positive/negative)\n",
    "    ])\n",
    "\n",
    "# Compile the model\n",
    "model.compile(optimizer='adam', loss= 'binary_crossentropy', metrics=[' accuracy' ])\n",
    "\n",
    "# Display model architecture\n",
    "model.summary()"
   ]
  },
  {
   "cell_type": "code",
   "execution_count": null,
   "id": "ab8af41f",
   "metadata": {},
   "outputs": [],
   "source": [
    "model = Sequential([\n",
    "    Embedding(input_dim=num_words, output_dim=embedding _dim, input_length=maxlen),\n",
    "    Bidirectional(GRU(5)), # 5 RNN units\n",
    "    Dense(1, activation=' sigmoid')# Binary classification (positive/negative)\n",
    "    ])\n",
    "\n",
    "# Compile the model\n",
    "model.compile(optimizer='adam', loss= 'binary_crossentropy', metrics=[' accuracy' ])\n",
    "\n",
    "# Display model architecture\n",
    "model.summary()"
   ]
  }
 ],
 "metadata": {
  "kernelspec": {
   "display_name": "Python 3 (ipykernel)",
   "language": "python",
   "name": "python3"
  },
  "language_info": {
   "codemirror_mode": {
    "name": "ipython",
    "version": 3
   },
   "file_extension": ".py",
   "mimetype": "text/x-python",
   "name": "python",
   "nbconvert_exporter": "python",
   "pygments_lexer": "ipython3",
   "version": "3.11.5"
  }
 },
 "nbformat": 4,
 "nbformat_minor": 5
}
