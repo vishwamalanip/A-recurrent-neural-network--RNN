{
 "cells": [
  {
   "cell_type": "markdown",
   "id": "e5d319c6",
   "metadata": {},
   "source": [
    "A recurrent neural network (RNN) is a deep learning model that is trained to process and convert a sequential data input into a specific sequential data output. Sequential data is data—such as words, sentences, or time-series data—where sequential components interrelate based on complex semantics and syntax rules"
   ]
  },
  {
   "cell_type": "markdown",
   "id": "38faa94f",
   "metadata": {},
   "source": [
    "An RNN is a software system that consists of many interconnected components mimicking how humans perform sequential data conversions, such as translating text from one language to another. RNNs are largely being replaced by transformer-based artificial intelligence (AI) and large language models (LLM), which are much more efficient in sequential data processing.\n",
    "\n"
   ]
  },
  {
   "cell_type": "markdown",
   "id": "2d9da83f",
   "metadata": {},
   "source": [
    "# problems/why we need RNN/why we dont use ANN instead?"
   ]
  },
  {
   "cell_type": "markdown",
   "id": "f86a633e",
   "metadata": {},
   "source": [
    "\n",
    "\n",
    "1> text input=> varying size (some text has 13 words,some has 20, some has 500)\n",
    "\n",
    "2>if we do zero padding=>Unnecessary computation\n",
    "\n",
    "3>prediction problem \n",
    "\n",
    "4>totally disregarding the sequence input(we word to take first which would be 2nd and so on if we use ANN)"
   ]
  },
  {
   "cell_type": "markdown",
   "id": "809daff7",
   "metadata": {},
   "source": [
    "RNNs are made of neurons: data-processing nodes that work together to perform complex tasks. The neurons are organized as input, output, and hidden layers. The input layer receives the information to process, and the output layer provides the result. Data processing, analysis, and prediction take place in the hidden layer. "
   ]
  },
  {
   "cell_type": "markdown",
   "id": "79f4c1d8",
   "metadata": {},
   "source": [
    "# Applications of RNN:"
   ]
  },
  {
   "cell_type": "markdown",
   "id": "a0454e7e",
   "metadata": {},
   "source": [
    "\n",
    "    \n",
    "1> sentiment analysis(text as an input we have to find text's sentiment is positive or negative)\n",
    "                      \n",
    "2>google gmail-/>while writing a mail gives suggestions(like what-->then suggestions are (are you doing)) \n",
    "\n",
    "3>image captions generator: gives image as an input and gives caption as an output\n",
    "                      \n",
    "4> disabled people applications :-> if app with camera fuctionality which is like by showing the camera gives live commentry (like there is car coming, there is road closing )\n",
    "\n",
    "5> google translate\n",
    "\n",
    "6>bert-question anwer demo -> paragraph as an input --> then we ask certain question it willl give answers as an output"
   ]
  },
  {
   "cell_type": "markdown",
   "id": "9234954b",
   "metadata": {},
   "source": [
    "simple RNN-->backprop RNN()-->problems in rnn-->(LSTM and GRU)-->TYPES of RNNs ->deep RNN-> bidirectional RNN--> sequence to sequence models"
   ]
  },
  {
   "cell_type": "code",
   "execution_count": 5,
   "id": "dde9cc7f",
   "metadata": {},
   "outputs": [],
   "source": [
    "from keras import Sequential"
   ]
  },
  {
   "cell_type": "code",
   "execution_count": 4,
   "id": "97f92177",
   "metadata": {},
   "outputs": [],
   "source": [
    "from keras.layers import Dense,SimpleRNN"
   ]
  },
  {
   "cell_type": "code",
   "execution_count": 7,
   "id": "eaa6a68d",
   "metadata": {},
   "outputs": [
    {
     "name": "stderr",
     "output_type": "stream",
     "text": [
      "/Users/vishwamalani/anaconda3/lib/python3.11/site-packages/keras/src/layers/rnn/rnn.py:205: UserWarning: Do not pass an `input_shape`/`input_dim` argument to a layer. When using Sequential models, prefer using an `Input(shape)` object as the first layer in the model instead.\n",
      "  super().__init__(**kwargs)\n"
     ]
    },
    {
     "data": {
      "text/html": [
       "<pre style=\"white-space:pre;overflow-x:auto;line-height:normal;font-family:Menlo,'DejaVu Sans Mono',consolas,'Courier New',monospace\"><span style=\"font-weight: bold\">Model: \"sequential_1\"</span>\n",
       "</pre>\n"
      ],
      "text/plain": [
       "\u001b[1mModel: \"sequential_1\"\u001b[0m\n"
      ]
     },
     "metadata": {},
     "output_type": "display_data"
    },
    {
     "data": {
      "text/html": [
       "<pre style=\"white-space:pre;overflow-x:auto;line-height:normal;font-family:Menlo,'DejaVu Sans Mono',consolas,'Courier New',monospace\">┏━━━━━━━━━━━━━━━━━━━━━━━━━━━━━━━━━┳━━━━━━━━━━━━━━━━━━━━━━━━┳━━━━━━━━━━━━━━━┓\n",
       "┃<span style=\"font-weight: bold\"> Layer (type)                    </span>┃<span style=\"font-weight: bold\"> Output Shape           </span>┃<span style=\"font-weight: bold\">       Param # </span>┃\n",
       "┡━━━━━━━━━━━━━━━━━━━━━━━━━━━━━━━━━╇━━━━━━━━━━━━━━━━━━━━━━━━╇━━━━━━━━━━━━━━━┩\n",
       "│ simple_rnn (<span style=\"color: #0087ff; text-decoration-color: #0087ff\">SimpleRNN</span>)          │ (<span style=\"color: #00d7ff; text-decoration-color: #00d7ff\">None</span>, <span style=\"color: #00af00; text-decoration-color: #00af00\">3</span>)              │            <span style=\"color: #00af00; text-decoration-color: #00af00\">27</span> │\n",
       "├─────────────────────────────────┼────────────────────────┼───────────────┤\n",
       "│ dense (<span style=\"color: #0087ff; text-decoration-color: #0087ff\">Dense</span>)                   │ (<span style=\"color: #00d7ff; text-decoration-color: #00d7ff\">None</span>, <span style=\"color: #00af00; text-decoration-color: #00af00\">1</span>)              │             <span style=\"color: #00af00; text-decoration-color: #00af00\">4</span> │\n",
       "└─────────────────────────────────┴────────────────────────┴───────────────┘\n",
       "</pre>\n"
      ],
      "text/plain": [
       "┏━━━━━━━━━━━━━━━━━━━━━━━━━━━━━━━━━┳━━━━━━━━━━━━━━━━━━━━━━━━┳━━━━━━━━━━━━━━━┓\n",
       "┃\u001b[1m \u001b[0m\u001b[1mLayer (type)                   \u001b[0m\u001b[1m \u001b[0m┃\u001b[1m \u001b[0m\u001b[1mOutput Shape          \u001b[0m\u001b[1m \u001b[0m┃\u001b[1m \u001b[0m\u001b[1m      Param #\u001b[0m\u001b[1m \u001b[0m┃\n",
       "┡━━━━━━━━━━━━━━━━━━━━━━━━━━━━━━━━━╇━━━━━━━━━━━━━━━━━━━━━━━━╇━━━━━━━━━━━━━━━┩\n",
       "│ simple_rnn (\u001b[38;5;33mSimpleRNN\u001b[0m)          │ (\u001b[38;5;45mNone\u001b[0m, \u001b[38;5;34m3\u001b[0m)              │            \u001b[38;5;34m27\u001b[0m │\n",
       "├─────────────────────────────────┼────────────────────────┼───────────────┤\n",
       "│ dense (\u001b[38;5;33mDense\u001b[0m)                   │ (\u001b[38;5;45mNone\u001b[0m, \u001b[38;5;34m1\u001b[0m)              │             \u001b[38;5;34m4\u001b[0m │\n",
       "└─────────────────────────────────┴────────────────────────┴───────────────┘\n"
      ]
     },
     "metadata": {},
     "output_type": "display_data"
    },
    {
     "data": {
      "text/html": [
       "<pre style=\"white-space:pre;overflow-x:auto;line-height:normal;font-family:Menlo,'DejaVu Sans Mono',consolas,'Courier New',monospace\"><span style=\"font-weight: bold\"> Total params: </span><span style=\"color: #00af00; text-decoration-color: #00af00\">31</span> (124.00 B)\n",
       "</pre>\n"
      ],
      "text/plain": [
       "\u001b[1m Total params: \u001b[0m\u001b[38;5;34m31\u001b[0m (124.00 B)\n"
      ]
     },
     "metadata": {},
     "output_type": "display_data"
    },
    {
     "data": {
      "text/html": [
       "<pre style=\"white-space:pre;overflow-x:auto;line-height:normal;font-family:Menlo,'DejaVu Sans Mono',consolas,'Courier New',monospace\"><span style=\"font-weight: bold\"> Trainable params: </span><span style=\"color: #00af00; text-decoration-color: #00af00\">31</span> (124.00 B)\n",
       "</pre>\n"
      ],
      "text/plain": [
       "\u001b[1m Trainable params: \u001b[0m\u001b[38;5;34m31\u001b[0m (124.00 B)\n"
      ]
     },
     "metadata": {},
     "output_type": "display_data"
    },
    {
     "data": {
      "text/html": [
       "<pre style=\"white-space:pre;overflow-x:auto;line-height:normal;font-family:Menlo,'DejaVu Sans Mono',consolas,'Courier New',monospace\"><span style=\"font-weight: bold\"> Non-trainable params: </span><span style=\"color: #00af00; text-decoration-color: #00af00\">0</span> (0.00 B)\n",
       "</pre>\n"
      ],
      "text/plain": [
       "\u001b[1m Non-trainable params: \u001b[0m\u001b[38;5;34m0\u001b[0m (0.00 B)\n"
      ]
     },
     "metadata": {},
     "output_type": "display_data"
    }
   ],
   "source": [
    "\n",
    "model = Sequential()\n",
    "model.add(SimpleRNN(3, input_shape=(4, 5)))\n",
    "model.add(Dense(1, activation='sigmoid'))\n",
    "model.summary()"
   ]
  },
  {
   "cell_type": "markdown",
   "id": "cd6bf1e5",
   "metadata": {},
   "source": [
    "# 4rrn folder=>rnn4-2=>for understanding for below code"
   ]
  },
  {
   "cell_type": "code",
   "execution_count": 9,
   "id": "8c4b4d6f",
   "metadata": {},
   "outputs": [
    {
     "name": "stdout",
     "output_type": "stream",
     "text": [
      "(5, 3)\n"
     ]
    },
    {
     "data": {
      "text/plain": [
       "array([[ 0.17163819,  0.61832374,  0.780297  ],\n",
       "       [ 0.05171311,  0.17133385, -0.43688765],\n",
       "       [ 0.7330741 ,  0.05231225,  0.4791903 ],\n",
       "       [-0.09150898,  0.25360006,  0.12841934],\n",
       "       [ 0.15575498,  0.13046819, -0.11659873]], dtype=float32)"
      ]
     },
     "execution_count": 9,
     "metadata": {},
     "output_type": "execute_result"
    }
   ],
   "source": [
    "print(model.get_weights()[0].shape)\n",
    "model.get_weights()[0]"
   ]
  },
  {
   "cell_type": "code",
   "execution_count": 11,
   "id": "a9e0c4be",
   "metadata": {},
   "outputs": [
    {
     "name": "stdout",
     "output_type": "stream",
     "text": [
      "(3, 3)\n"
     ]
    },
    {
     "data": {
      "text/plain": [
       "array([[-0.99787474,  0.03755235,  0.05325159],\n",
       "       [ 0.05524907,  0.9208794 ,  0.3859128 ],\n",
       "       [ 0.03454636, -0.38803476,  0.920997  ]], dtype=float32)"
      ]
     },
     "execution_count": 11,
     "metadata": {},
     "output_type": "execute_result"
    }
   ],
   "source": [
    "print(model.get_weights()[1].shape)\n",
    "model.get_weights()[1]"
   ]
  },
  {
   "cell_type": "code",
   "execution_count": 12,
   "id": "4a6621d0",
   "metadata": {},
   "outputs": [
    {
     "name": "stdout",
     "output_type": "stream",
     "text": [
      "(3,)\n"
     ]
    },
    {
     "data": {
      "text/plain": [
       "array([0., 0., 0.], dtype=float32)"
      ]
     },
     "execution_count": 12,
     "metadata": {},
     "output_type": "execute_result"
    }
   ],
   "source": [
    "print(model.get_weights()[2].shape)\n",
    "model.get_weights()[2]"
   ]
  },
  {
   "cell_type": "code",
   "execution_count": 13,
   "id": "b236f8eb",
   "metadata": {},
   "outputs": [
    {
     "name": "stdout",
     "output_type": "stream",
     "text": [
      "(3, 1)\n"
     ]
    },
    {
     "data": {
      "text/plain": [
       "array([[-0.4211576 ],\n",
       "       [-0.34954208],\n",
       "       [-0.6662912 ]], dtype=float32)"
      ]
     },
     "execution_count": 13,
     "metadata": {},
     "output_type": "execute_result"
    }
   ],
   "source": [
    "print(model.get_weights()[3].shape)\n",
    "model.get_weights()[3]"
   ]
  },
  {
   "cell_type": "code",
   "execution_count": 14,
   "id": "fbcc5014",
   "metadata": {},
   "outputs": [
    {
     "name": "stdout",
     "output_type": "stream",
     "text": [
      "(1,)\n"
     ]
    },
    {
     "data": {
      "text/plain": [
       "array([0.], dtype=float32)"
      ]
     },
     "execution_count": 14,
     "metadata": {},
     "output_type": "execute_result"
    }
   ],
   "source": [
    "print(model.get_weights()[4].shape)\n",
    "model.get_weights()[4]"
   ]
  },
  {
   "cell_type": "markdown",
   "id": "c95daacb",
   "metadata": {},
   "source": [
    "# RNN Forward Prop"
   ]
  },
  {
   "cell_type": "markdown",
   "id": "d261e28b",
   "metadata": {},
   "source": [
    "            review        shape(no of time steps, input features)       sentiment\n",
    "            \n",
    "       movie was good      =>shape for this review is (3,5)                1\n",
    "[1 0 0 0 0][0 1 0 0 0][0 0 1 0 0]\n",
    "\n",
    "     movie was bad.        =>shape for this review is (3,5)                0\n",
    "[1 0 0 0 0][0 1 0 0 0][0 0 0 1 0]\n",
    "\n",
    "     movie was not good    =>shape for this review is (4,5)                0\n",
    "[1 0 0 0 0][0 1 0 0 0][0 0 0 0 1][0 0 1 0 0]      \n",
    "\n",
    "~~~>    vocab=>5 unique words \n",
    "\n",
    "    vectors  [1 0 0 0 0] =movie\n",
    "    \n",
    "             [0 1 0 0 0] = was\n",
    "             \n",
    "             [0 0 1 0 0] =good\n",
    "             \n",
    "             [0 0 0 1 0] =bad\n",
    "             \n",
    "             [0 0 0 0 1] =not\n",
    "    "
   ]
  },
  {
   "cell_type": "markdown",
   "id": "db7899cd",
   "metadata": {},
   "source": [
    "keras=>simple RNN ->>batch size(words for particular review for this one first review),timesteps(longest reviews words),input_features(total unique words)\n",
    "\n",
    "                        (3=batch size,4=timesteps,5=input_features)"
   ]
  },
  {
   "cell_type": "markdown",
   "id": "fcbfda65",
   "metadata": {},
   "source": [
    "4rrn folder=>rnn4-3,4=>for understanding for below code"
   ]
  },
  {
   "cell_type": "code",
   "execution_count": null,
   "id": "d51d3f91",
   "metadata": {},
   "outputs": [],
   "source": []
  }
 ],
 "metadata": {
  "kernelspec": {
   "display_name": "Python 3 (ipykernel)",
   "language": "python",
   "name": "python3"
  },
  "language_info": {
   "codemirror_mode": {
    "name": "ipython",
    "version": 3
   },
   "file_extension": ".py",
   "mimetype": "text/x-python",
   "name": "python",
   "nbconvert_exporter": "python",
   "pygments_lexer": "ipython3",
   "version": "3.11.5"
  }
 },
 "nbformat": 4,
 "nbformat_minor": 5
}
